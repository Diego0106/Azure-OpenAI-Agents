{
  "nbformat": 4,
  "nbformat_minor": 0,
  "metadata": {
    "colab": {
      "provenance": []
    },
    "kernelspec": {
      "name": "python3",
      "display_name": "Python 3"
    },
    "language_info": {
      "name": "python"
    }
  },
  "cells": [
    {
      "cell_type": "code",
      "execution_count": null,
      "metadata": {
        "id": "c2pqWDEY9GuG"
      },
      "outputs": [],
      "source": [
        "!pip install openai openai-agents dotenv"
      ]
    },
    {
      "cell_type": "markdown",
      "source": [
        "Definir modelo y conexión\n",
        "-----"
      ],
      "metadata": {
        "id": "Zl0-vFehGT_G"
      }
    },
    {
      "cell_type": "code",
      "source": [
        "from openai import AsyncAzureOpenAI\n",
        "from agents import set_default_openai_client\n",
        "from dotenv import load_dotenv\n",
        "import os\n",
        "\n",
        "# Set environment variables\n",
        "os.environ[\"AZURE_OPENAI_API_KEY\"] = \"your-key\"\n",
        "os.environ[\"AZURE_OPENAI_API_VERSION\"] = \"2024-08-01-preview\"\n",
        "os.environ[\"AZURE_OPENAI_ENDPOINT\"] = \"https://your-resource.openai.azure.com/\"\n",
        "os.environ[\"AZURE_OPENAI_DEPLOYMENT\"] = \"gpt-4o\"\n",
        "\n",
        "# Load environment variables\n",
        "load_dotenv()\n",
        "\n",
        "# Create OpenAI client using Azure OpenAI\n",
        "client = AsyncAzureOpenAI(\n",
        "    api_key=os.getenv(\"AZURE_OPENAI_API_KEY\"),\n",
        "    api_version=os.getenv(\"AZURE_OPENAI_API_VERSION\"),\n",
        "    azure_endpoint=os.getenv(\"AZURE_OPENAI_ENDPOINT\"),\n",
        "    azure_deployment=os.getenv(\"AZURE_OPENAI_DEPLOYMENT\")\n",
        ")\n",
        "\n",
        "# Set the default OpenAI client for the Agents SDK\n",
        "set_default_openai_client(client)"
      ],
      "metadata": {
        "id": "1h48y9Fj-ZlG"
      },
      "execution_count": null,
      "outputs": []
    },
    {
      "cell_type": "markdown",
      "source": [
        "Crear Agente\n",
        "-----"
      ],
      "metadata": {
        "id": "la8s6ZquGd27"
      }
    },
    {
      "cell_type": "code",
      "source": [
        "MENU_PRICES = \"\"\"🍰 Dulces Delicias - Menú de Pastelería 🍰\n",
        "🎂 Tortas y Pasteles\n",
        "Torta de Chocolate Clásica – $4.50 por porción | $28.00 entera\n",
        "Cheesecake – $5.00 por porción | $30.00 entera\n",
        "Torta Red Velvet – $4.75 por porción | $29.00 entera\n",
        "Tiramisú Italiano – $5.50 por porción | $32.00 entera\n",
        "Torta Tres Leches – $4.25 por porción | $27.00 entera\n",
        "🧁 Cupcakes y Muffins\n",
        "Cupcake de Vainilla con Buttercream – $2.50 c/u\n",
        "Cupcake de Chocolate y Avellanas – $2.75 c/u\n",
        "Muffin de Arándanos – $2.80 c/u\n",
        "Muffin de Banana y Nueces – $2.90 c/u\n",
        "🥐 Panadería Artesanal\n",
        "Croissant de Mantequilla – $3.00\n",
        "Pain au Chocolat – $3.50\n",
        "Roll de Canela con Glaseado – $3.75\n",
        "Empanada de Manzana – $4.00\n",
        "🍪 Galletas y Snacks\n",
        "Galletas de Chispas de Chocolate – $1.50 c/u | $8.00 por 6 unidades\n",
        "Macarons Franceses (varios sabores) – $2.20 c/u | $12.00 por caja de 6\n",
        "Brownie de Chocolate Intenso – $3.50 c/u\n",
        "Alfajor de Dulce de Leche – $2.75 c/u\n",
        "🍹 Bebidas\n",
        "Café Espresso – $2.50\n",
        "Café Latte – $3.50\n",
        "Capuchino – $3.75\n",
        "Chocolate Caliente – $3.25\n",
        "Té Natural (varios sabores) – $2.00\n",
        "Limonada Natural – $3.00\n",
        "Malteada de Vainilla/Chocolate/Fresa – $4.50\"\"\""
      ],
      "metadata": {
        "id": "J5eQ9lQKGi9J"
      },
      "execution_count": null,
      "outputs": []
    },
    {
      "cell_type": "code",
      "source": [
        "from agents import Agent, Runner, OpenAIChatCompletionsModel\n",
        "\n",
        "\n",
        "agent = Agent(name=\"Asistente de pasteleria\",\n",
        "            instructions=f\"Eres un camarero de una pasteleria que da información de precios de este menu: \\n {MENU_PRICES}\",\n",
        "            model= OpenAIChatCompletionsModel(\n",
        "                                model=\"gpt-4o\",\n",
        "                                openai_client=client\n",
        "                  )\n",
        "            )"
      ],
      "metadata": {
        "id": "DKHOHAERGoGW"
      },
      "execution_count": null,
      "outputs": []
    },
    {
      "cell_type": "code",
      "source": [
        "import nest_asyncio\n",
        "nest_asyncio.apply()"
      ],
      "metadata": {
        "id": "D_JvgB2RiGfi"
      },
      "execution_count": null,
      "outputs": []
    },
    {
      "cell_type": "markdown",
      "source": [
        "Ejecución síncrona"
      ],
      "metadata": {
        "id": "YKHnfONOobVg"
      }
    },
    {
      "cell_type": "code",
      "source": [
        "result = Runner.run_sync(agent, \"Cuanto cuesta el capuchino?.\")\n",
        "print(result.final_output)"
      ],
      "metadata": {
        "id": "869f53k3og-O"
      },
      "execution_count": null,
      "outputs": []
    },
    {
      "cell_type": "code",
      "source": [
        "result = Runner.run_sync(agent, \"Cuanto cuestan 3 porciones de cheesecake?.\")\n",
        "print(result.final_output)"
      ],
      "metadata": {
        "id": "UlUXFD3FsCNx"
      },
      "execution_count": null,
      "outputs": []
    },
    {
      "cell_type": "markdown",
      "source": [
        "Ejecución Asíncrona"
      ],
      "metadata": {
        "id": "mbnUi6dwpGve"
      }
    },
    {
      "cell_type": "code",
      "source": [
        "result = await Runner.run(agent, \"Cuanto cuesta el capuchino?.\")\n",
        "print(result.final_output)"
      ],
      "metadata": {
        "id": "UCj_c_-ZpIDy"
      },
      "execution_count": null,
      "outputs": []
    },
    {
      "cell_type": "code",
      "source": [
        "result = await Runner.run(agent, \"Cuanto cuestan 3 porciones de cheesecake?.\")\n",
        "print(result.final_output)"
      ],
      "metadata": {
        "id": "9TIJu82esWc-"
      },
      "execution_count": null,
      "outputs": []
    },
    {
      "cell_type": "markdown",
      "source": [
        "Ejecución streaming mode"
      ],
      "metadata": {
        "id": "r2kUwn0YYoLI"
      }
    },
    {
      "cell_type": "code",
      "source": [
        "import asyncio\n",
        "from openai.types.responses import ResponseTextDeltaEvent\n",
        "\n",
        "result = Runner.run_streamed(agent, input=\"cuanto cuesta cada plato del menu?\")\n",
        "async for event in result.stream_events():\n",
        "    if event.type == \"raw_response_event\" and isinstance(event.data, ResponseTextDeltaEvent):\n",
        "        print(event.data.delta, end=\"\", flush=True)"
      ],
      "metadata": {
        "id": "HXdW2wJSYnws"
      },
      "execution_count": null,
      "outputs": []
    },
    {
      "cell_type": "code",
      "source": [
        "result = Runner.run_streamed(agent, input=\"cuanto cuesta 2 porciones de cada plato del menu?\")\n",
        "async for event in result.stream_events():\n",
        "    if event.type == \"raw_response_event\" and isinstance(event.data, ResponseTextDeltaEvent):\n",
        "        print(event.data.delta, end=\"\", flush=True)"
      ],
      "metadata": {
        "id": "Nu-AJkpbZ3hx"
      },
      "execution_count": null,
      "outputs": []
    }
  ]
}