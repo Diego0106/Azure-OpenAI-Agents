{
  "nbformat": 4,
  "nbformat_minor": 0,
  "metadata": {
    "colab": {
      "provenance": []
    },
    "kernelspec": {
      "name": "python3",
      "display_name": "Python 3"
    },
    "language_info": {
      "name": "python"
    }
  },
  "cells": [
    {
      "cell_type": "code",
      "execution_count": 1,
      "metadata": {
        "colab": {
          "base_uri": "https://localhost:8080/"
        },
        "id": "c2pqWDEY9GuG",
        "outputId": "ce99fdd8-e92b-43ae-afbc-4fc4ae51d1d2"
      },
      "outputs": [
        {
          "output_type": "stream",
          "name": "stdout",
          "text": [
            "Requirement already satisfied: openai in /usr/local/lib/python3.11/dist-packages (1.66.3)\n",
            "Collecting openai-agents\n",
            "  Downloading openai_agents-0.0.6-py3-none-any.whl.metadata (8.0 kB)\n",
            "Collecting dotenv\n",
            "  Downloading dotenv-0.9.9-py2.py3-none-any.whl.metadata (279 bytes)\n",
            "Requirement already satisfied: anyio<5,>=3.5.0 in /usr/local/lib/python3.11/dist-packages (from openai) (4.9.0)\n",
            "Requirement already satisfied: distro<2,>=1.7.0 in /usr/local/lib/python3.11/dist-packages (from openai) (1.9.0)\n",
            "Requirement already satisfied: httpx<1,>=0.23.0 in /usr/local/lib/python3.11/dist-packages (from openai) (0.28.1)\n",
            "Requirement already satisfied: jiter<1,>=0.4.0 in /usr/local/lib/python3.11/dist-packages (from openai) (0.9.0)\n",
            "Requirement already satisfied: pydantic<3,>=1.9.0 in /usr/local/lib/python3.11/dist-packages (from openai) (2.10.6)\n",
            "Requirement already satisfied: sniffio in /usr/local/lib/python3.11/dist-packages (from openai) (1.3.1)\n",
            "Requirement already satisfied: tqdm>4 in /usr/local/lib/python3.11/dist-packages (from openai) (4.67.1)\n",
            "Requirement already satisfied: typing-extensions<5,>=4.11 in /usr/local/lib/python3.11/dist-packages (from openai) (4.12.2)\n",
            "Collecting griffe<2,>=1.5.6 (from openai-agents)\n",
            "  Downloading griffe-1.6.2-py3-none-any.whl.metadata (5.0 kB)\n",
            "Collecting openai\n",
            "  Downloading openai-1.68.2-py3-none-any.whl.metadata (25 kB)\n",
            "Requirement already satisfied: requests<3,>=2.0 in /usr/local/lib/python3.11/dist-packages (from openai-agents) (2.32.3)\n",
            "Collecting types-requests<3,>=2.0 (from openai-agents)\n",
            "  Downloading types_requests-2.32.0.20250306-py3-none-any.whl.metadata (2.3 kB)\n",
            "Collecting python-dotenv (from dotenv)\n",
            "  Downloading python_dotenv-1.0.1-py3-none-any.whl.metadata (23 kB)\n",
            "Requirement already satisfied: idna>=2.8 in /usr/local/lib/python3.11/dist-packages (from anyio<5,>=3.5.0->openai) (3.10)\n",
            "Collecting colorama>=0.4 (from griffe<2,>=1.5.6->openai-agents)\n",
            "  Downloading colorama-0.4.6-py2.py3-none-any.whl.metadata (17 kB)\n",
            "Requirement already satisfied: certifi in /usr/local/lib/python3.11/dist-packages (from httpx<1,>=0.23.0->openai) (2025.1.31)\n",
            "Requirement already satisfied: httpcore==1.* in /usr/local/lib/python3.11/dist-packages (from httpx<1,>=0.23.0->openai) (1.0.7)\n",
            "Requirement already satisfied: h11<0.15,>=0.13 in /usr/local/lib/python3.11/dist-packages (from httpcore==1.*->httpx<1,>=0.23.0->openai) (0.14.0)\n",
            "Requirement already satisfied: annotated-types>=0.6.0 in /usr/local/lib/python3.11/dist-packages (from pydantic<3,>=1.9.0->openai) (0.7.0)\n",
            "Requirement already satisfied: pydantic-core==2.27.2 in /usr/local/lib/python3.11/dist-packages (from pydantic<3,>=1.9.0->openai) (2.27.2)\n",
            "Requirement already satisfied: charset-normalizer<4,>=2 in /usr/local/lib/python3.11/dist-packages (from requests<3,>=2.0->openai-agents) (3.4.1)\n",
            "Requirement already satisfied: urllib3<3,>=1.21.1 in /usr/local/lib/python3.11/dist-packages (from requests<3,>=2.0->openai-agents) (2.3.0)\n",
            "Downloading openai_agents-0.0.6-py3-none-any.whl (98 kB)\n",
            "\u001b[2K   \u001b[90m━━━━━━━━━━━━━━━━━━━━━━━━━━━━━━━━━━━━━━━━\u001b[0m \u001b[32m98.9/98.9 kB\u001b[0m \u001b[31m4.8 MB/s\u001b[0m eta \u001b[36m0:00:00\u001b[0m\n",
            "\u001b[?25hDownloading openai-1.68.2-py3-none-any.whl (606 kB)\n",
            "\u001b[2K   \u001b[90m━━━━━━━━━━━━━━━━━━━━━━━━━━━━━━━━━━━━━━━━\u001b[0m \u001b[32m606.1/606.1 kB\u001b[0m \u001b[31m19.0 MB/s\u001b[0m eta \u001b[36m0:00:00\u001b[0m\n",
            "\u001b[?25hDownloading dotenv-0.9.9-py2.py3-none-any.whl (1.9 kB)\n",
            "Downloading griffe-1.6.2-py3-none-any.whl (128 kB)\n",
            "\u001b[2K   \u001b[90m━━━━━━━━━━━━━━━━━━━━━━━━━━━━━━━━━━━━━━━━\u001b[0m \u001b[32m128.6/128.6 kB\u001b[0m \u001b[31m6.6 MB/s\u001b[0m eta \u001b[36m0:00:00\u001b[0m\n",
            "\u001b[?25hDownloading types_requests-2.32.0.20250306-py3-none-any.whl (20 kB)\n",
            "Downloading python_dotenv-1.0.1-py3-none-any.whl (19 kB)\n",
            "Downloading colorama-0.4.6-py2.py3-none-any.whl (25 kB)\n",
            "Installing collected packages: types-requests, python-dotenv, colorama, griffe, dotenv, openai, openai-agents\n",
            "  Attempting uninstall: openai\n",
            "    Found existing installation: openai 1.66.3\n",
            "    Uninstalling openai-1.66.3:\n",
            "      Successfully uninstalled openai-1.66.3\n",
            "Successfully installed colorama-0.4.6 dotenv-0.9.9 griffe-1.6.2 openai-1.68.2 openai-agents-0.0.6 python-dotenv-1.0.1 types-requests-2.32.0.20250306\n"
          ]
        }
      ],
      "source": [
        "!pip install openai openai-agents dotenv"
      ]
    },
    {
      "cell_type": "markdown",
      "source": [
        "Definir modelo y conexión\n",
        "-----"
      ],
      "metadata": {
        "id": "Zl0-vFehGT_G"
      }
    },
    {
      "cell_type": "code",
      "source": [
        "from openai import AsyncAzureOpenAI\n",
        "from agents import set_default_openai_client\n",
        "from dotenv import load_dotenv\n",
        "import os\n",
        "\n",
        "# Set environment variables\n",
        "os.environ[\"AZURE_OPENAI_API_KEY\"] = \"your-key\"\n",
        "os.environ[\"AZURE_OPENAI_API_VERSION\"] = \"2024-08-01-preview\"\n",
        "os.environ[\"AZURE_OPENAI_ENDPOINT\"] = \"https://your-resource.openai.azure.com/\"\n",
        "os.environ[\"AZURE_OPENAI_DEPLOYMENT\"] = \"gpt-4o\"\n",
        "\n",
        "# Load environment variables\n",
        "load_dotenv()\n",
        "\n",
        "# Create OpenAI client using Azure OpenAI\n",
        "client = AsyncAzureOpenAI(\n",
        "    api_key=os.getenv(\"AZURE_OPENAI_API_KEY\"),\n",
        "    api_version=os.getenv(\"AZURE_OPENAI_API_VERSION\"),\n",
        "    azure_endpoint=os.getenv(\"AZURE_OPENAI_ENDPOINT\"),\n",
        "    azure_deployment=os.getenv(\"AZURE_OPENAI_DEPLOYMENT\")\n",
        ")\n",
        "\n",
        "# Set the default OpenAI client for the Agents SDK\n",
        "set_default_openai_client(client)"
      ],
      "metadata": {
        "id": "1h48y9Fj-ZlG"
      },
      "execution_count": 2,
      "outputs": []
    },
    {
      "cell_type": "markdown",
      "source": [
        "Crear Agente\n",
        "-----"
      ],
      "metadata": {
        "id": "la8s6ZquGd27"
      }
    },
    {
      "cell_type": "code",
      "source": [
        "MENU_PRICES = \"\"\"🍰 Dulces Delicias - Menú de Pastelería 🍰\n",
        "🎂 Tortas y Pasteles\n",
        "Torta de Chocolate Clásica – $4.50 por porción | $28.00 entera\n",
        "Cheesecake – $5.00 por porción | $30.00 entera\n",
        "Torta Red Velvet – $4.75 por porción | $29.00 entera\n",
        "Tiramisú Italiano – $5.50 por porción | $32.00 entera\n",
        "Torta Tres Leches – $4.25 por porción | $27.00 entera\n",
        "🧁 Cupcakes y Muffins\n",
        "Cupcake de Vainilla con Buttercream – $2.50 c/u\n",
        "Cupcake de Chocolate y Avellanas – $2.75 c/u\n",
        "Muffin de Arándanos – $2.80 c/u\n",
        "Muffin de Banana y Nueces – $2.90 c/u\n",
        "🥐 Panadería Artesanal\n",
        "Croissant de Mantequilla – $3.00\n",
        "Pain au Chocolat – $3.50\n",
        "Roll de Canela con Glaseado – $3.75\n",
        "Empanada de Manzana – $4.00\n",
        "🍪 Galletas y Snacks\n",
        "Galletas de Chispas de Chocolate – $1.50 c/u | $8.00 por 6 unidades\n",
        "Macarons Franceses (varios sabores) – $2.20 c/u | $12.00 por caja de 6\n",
        "Brownie de Chocolate Intenso – $3.50 c/u\n",
        "Alfajor de Dulce de Leche – $2.75 c/u\n",
        "🍹 Bebidas\n",
        "Café Espresso – $2.50\n",
        "Café Latte – $3.50\n",
        "Capuchino – $3.75\n",
        "Chocolate Caliente – $3.25\n",
        "Té Natural (varios sabores) – $2.00\n",
        "Limonada Natural – $3.00\n",
        "Malteada de Vainilla/Chocolate/Fresa – $4.50\"\"\""
      ],
      "metadata": {
        "id": "J5eQ9lQKGi9J"
      },
      "execution_count": null,
      "outputs": []
    },
    {
      "cell_type": "code",
      "source": [
        "from agents import Agent, Runner, OpenAIChatCompletionsModel\n",
        "\n",
        "\n",
        "agent = Agent(name=\"Asistente de pasteleria\",\n",
        "            instructions=f\"Eres un camarero de una pasteleria que da información de precios de este menu: \\n {MENU_PRICES}\",\n",
        "            model= OpenAIChatCompletionsModel(\n",
        "                                model=\"gpt-4o\",\n",
        "                                openai_client=client\n",
        "                  )\n",
        "            )"
      ],
      "metadata": {
        "id": "DKHOHAERGoGW"
      },
      "execution_count": null,
      "outputs": []
    },
    {
      "cell_type": "markdown",
      "source": [
        "Ejecución síncrona"
      ],
      "metadata": {
        "id": "YKHnfONOobVg"
      }
    },
    {
      "cell_type": "code",
      "source": [
        "result = Runner.run_sync(agent, \"Cuanto cuesta el capuchino?.\")\n",
        "print(result.final_output)"
      ],
      "metadata": {
        "id": "869f53k3og-O"
      },
      "execution_count": null,
      "outputs": []
    },
    {
      "cell_type": "code",
      "source": [
        "result = Runner.run_sync(agent, \"Cuanto cuestan 3 porciones de cheesecake?.\")\n",
        "print(result.final_output)"
      ],
      "metadata": {
        "id": "UlUXFD3FsCNx"
      },
      "execution_count": null,
      "outputs": []
    },
    {
      "cell_type": "markdown",
      "source": [
        "Ejecución Asíncrona"
      ],
      "metadata": {
        "id": "mbnUi6dwpGve"
      }
    },
    {
      "cell_type": "code",
      "source": [
        "result = await Runner.run(agent, \"Cuanto cuesta el capuchino?.\")\n",
        "print(result.final_output)"
      ],
      "metadata": {
        "id": "UCj_c_-ZpIDy"
      },
      "execution_count": null,
      "outputs": []
    },
    {
      "cell_type": "code",
      "source": [
        "result = await Runner.run(agent, \"Cuanto cuestan 3 porciones de cheesecake?.\")\n",
        "print(result.final_output)"
      ],
      "metadata": {
        "id": "9TIJu82esWc-"
      },
      "execution_count": null,
      "outputs": []
    }
  ]
}